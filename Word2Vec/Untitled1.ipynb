{
 "cells": [
  {
   "cell_type": "code",
   "execution_count": 1,
   "metadata": {},
   "outputs": [],
   "source": [
    "import json\n",
    "import re\n",
    "from multiprocessing import Pool\n",
    "import os"
   ]
  },
  {
   "cell_type": "code",
   "execution_count": 2,
   "metadata": {},
   "outputs": [],
   "source": [
    "#regs\n",
    "#regs=[]\n",
    "restring=\"(%s|%s|%s|%s|%s|%s|%s|%s|%s|%s|%s|%s|%s|%s|%s)\" % (r'\\((\\w*\\s*)+\\)',r'\\[(\\w*\\s*)+\\]', r'\\(.*\\)', r'\\)',r'\\[',r'\\]',r'\\w*',r'\\d*',\n",
    "                            r\"[/$&+,:;=?@#|'<>^–*()%!-]\",\n",
    "                           r'”.*”',r'’.*’',r'\".*\"',r'[,]',r'[\"]',r'\\\\')\n",
    "regs=re.compile(restring)\n",
    "'''\n",
    "regs.append(re.compile(r'\\((\\w*\\s*)+\\)')) \n",
    "regs.append(re.compile(r'\\[(\\w*\\s*)+\\]'))\n",
    "regs.append(re.compile(r'\\(.*\\)'))\n",
    "regs.append(re.compile(r'\\)'))\n",
    "regs.append(re.compile(r'\\['))\n",
    "regs.append(re.compile(r'\\]'))\n",
    "regs.append(re.compile(r'\\w*'))\n",
    "regs.append(re.compile(r'\\d*'))\n",
    "regs.append(re.compile(r\"[/$&+,:;=?@#|'<>^–*()%!-]\"))\n",
    "regs.append(re.compile(r'”.*”'))\n",
    "regs.append(re.compile(r'’.*’'))\n",
    "regs.append(re.compile(r'\".*\"'))\n",
    "'''\n",
    "def clean(value):\n",
    "    \n",
    "    #value = value.replace('.', '\\n') #insert newline when '.'\n",
    "    value=regs.sub('', value) \n",
    "    value=re.sub(r'\"',\"\",value)\n",
    "    value=re.sub(r',',\"\",value)\n",
    "    value=re.sub(r\"'\",\"\",value)\n",
    "    \n",
    "    \n",
    "    return value\n"
   ]
  },
  {
   "cell_type": "code",
   "execution_count": 3,
   "metadata": {},
   "outputs": [],
   "source": [
    "r='AA/'\n",
    "IP='/home/mak/Documents/corpus_raw/'+r\n",
    "OP='/home/mak/Documents/corpus_clean/'+r\n",
    "listing=os.listdir(IP)\n"
   ]
  },
  {
   "cell_type": "code",
   "execution_count": 5,
   "metadata": {},
   "outputs": [],
   "source": [
    "\n",
    "OUTPUTFILE=OP\n",
    "def clean_file(fileloc):\n",
    "    fileloc,filecount=fileloc\n",
    "    f=open(fileloc).read()\n",
    "    w=open(OUTPUTFILE+str(filecount),'w+')\n",
    "    \n",
    "    g=f.split('\\n')\n",
    "    dels=[]\n",
    "    for i in range(len(g)):\n",
    "        if g[i].startswith('<doc') or g[i].startswith('</doc') or len(g[i])<100:\n",
    "            dels.append(i)\n",
    "    for i in dels[::-1]:\n",
    "        del g[i]\n",
    "    #lineno=0\n",
    "    for i in g[:10]:\n",
    "        j=clean(i)\n",
    "        if len(j)>100:\n",
    "            w.write(j)\n",
    "            w.write('\\n')\n",
    "            #print lineno,j,len(j) \n",
    "            #.encode('utf8'))\n",
    "            #print clean(i)\n",
    "            #rint lineno\n",
    "            #lineno+=1\n",
    "    w.close()\n",
    "    \n",
    "#et.parse('/home/mak/Documents/corpus_raw/AA/wiki_01')"
   ]
  },
  {
   "cell_type": "code",
   "execution_count": null,
   "metadata": {},
   "outputs": [
    {
     "name": "stderr",
     "output_type": "stream",
     "text": [
      "Process PoolWorker-1:\n",
      "Process PoolWorker-2:\n",
      "Process PoolWorker-3:\n",
      "Traceback (most recent call last):\n",
      "Traceback (most recent call last):\n",
      "Process PoolWorker-4:\n",
      "Traceback (most recent call last):\n",
      "  File \"/home/mak/anaconda2/lib/python2.7/multiprocessing/process.py\", line 267, in _bootstrap\n",
      "    self.run()\n",
      "  File \"/home/mak/anaconda2/lib/python2.7/multiprocessing/process.py\", line 114, in run\n",
      "  File \"/home/mak/anaconda2/lib/python2.7/multiprocessing/process.py\", line 267, in _bootstrap\n",
      "    self.run()\n",
      "    self._target(*self._args, **self._kwargs)\n",
      "  File \"/home/mak/anaconda2/lib/python2.7/multiprocessing/process.py\", line 267, in _bootstrap\n",
      "  File \"/home/mak/anaconda2/lib/python2.7/multiprocessing/process.py\", line 114, in run\n",
      "    self._target(*self._args, **self._kwargs)\n",
      "    self.run()\n",
      "Traceback (most recent call last):\n",
      "  File \"/home/mak/anaconda2/lib/python2.7/multiprocessing/process.py\", line 114, in run\n",
      "  File \"/home/mak/anaconda2/lib/python2.7/multiprocessing/process.py\", line 267, in _bootstrap\n",
      "  File \"/home/mak/anaconda2/lib/python2.7/multiprocessing/pool.py\", line 102, in worker\n",
      "  File \"/home/mak/anaconda2/lib/python2.7/multiprocessing/pool.py\", line 102, in worker\n",
      "    self._target(*self._args, **self._kwargs)\n",
      "    self.run()\n",
      "  File \"/home/mak/anaconda2/lib/python2.7/multiprocessing/process.py\", line 114, in run\n",
      "    task = get()\n",
      "  File \"/home/mak/anaconda2/lib/python2.7/multiprocessing/pool.py\", line 102, in worker\n",
      "    task = get()\n",
      "  File \"/home/mak/anaconda2/lib/python2.7/multiprocessing/queues.py\", line 376, in get\n",
      "  File \"/home/mak/anaconda2/lib/python2.7/multiprocessing/queues.py\", line 374, in get\n",
      "    self._target(*self._args, **self._kwargs)\n",
      "    return recv()\n",
      "    task = get()\n",
      "    racquire()\n",
      "  File \"/home/mak/anaconda2/lib/python2.7/multiprocessing/queues.py\", line 374, in get\n",
      "KeyboardInterrupt\n",
      "  File \"/home/mak/anaconda2/lib/python2.7/multiprocessing/pool.py\", line 113, in worker\n",
      "KeyboardInterrupt\n",
      "    racquire()\n",
      "    result = (True, func(*args, **kwds))\n",
      "KeyboardInterrupt\n",
      "  File \"/home/mak/anaconda2/lib/python2.7/multiprocessing/pool.py\", line 65, in mapstar\n",
      "    return map(*args)\n",
      "  File \"<ipython-input-5-39f378549abd>\", line 17, in clean_file\n",
      "    j=clean(i)\n",
      "  File \"<ipython-input-2-13519ef8de05>\", line 24, in clean\n",
      "    value=regs.sub('', value)\n",
      "KeyboardInterrupt\n"
     ]
    }
   ],
   "source": [
    "p=Pool(4)\n",
    "p.map(clean_file,[(IP+i,i) for i in listing])\n"
   ]
  },
  {
   "cell_type": "code",
   "execution_count": null,
   "metadata": {},
   "outputs": [],
   "source": [
    "for i in listing:\n",
    "    clean_file((IP+i,i))"
   ]
  },
  {
   "cell_type": "code",
   "execution_count": null,
   "metadata": {},
   "outputs": [],
   "source": []
  },
  {
   "cell_type": "code",
   "execution_count": null,
   "metadata": {},
   "outputs": [],
   "source": []
  }
 ],
 "metadata": {
  "kernelspec": {
   "display_name": "Python 2",
   "language": "python",
   "name": "python2"
  },
  "language_info": {
   "codemirror_mode": {
    "name": "ipython",
    "version": 2
   },
   "file_extension": ".py",
   "mimetype": "text/x-python",
   "name": "python",
   "nbconvert_exporter": "python",
   "pygments_lexer": "ipython2",
   "version": "2.7.14"
  }
 },
 "nbformat": 4,
 "nbformat_minor": 2
}
