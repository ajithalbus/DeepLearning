{
 "cells": [
  {
   "cell_type": "code",
   "execution_count": null,
   "metadata": {},
   "outputs": [],
   "source": [
    "import numpy as np\n",
    "import sys\n",
    "import math\n",
    "from helper import save_data,load_data\n",
    "import mnist_reader"
   ]
  },
  {
   "cell_type": "code",
   "execution_count": null,
   "metadata": {},
   "outputs": [],
   "source": [
    "\n",
    "X_train, y_train = mnist_reader.load_mnist('data/fashion', kind='train')\n",
    "X_test, y_test = mnist_reader.load_mnist('data/fashion', kind='t10k')\n"
   ]
  },
  {
   "cell_type": "code",
   "execution_count": null,
   "metadata": {},
   "outputs": [],
   "source": []
  },
  {
   "cell_type": "code",
   "execution_count": null,
   "metadata": {},
   "outputs": [],
   "source": [
    "training_data=(X_train>127)\n",
    "validating_data=(X_test>127)\n"
   ]
  },
  {
   "cell_type": "code",
   "execution_count": null,
   "metadata": {},
   "outputs": [],
   "source": [
    "def sigmoid(x):\n",
    "    x=np.array(x)\n",
    "    return 1 / (1 + np.exp(-x))"
   ]
  },
  {
   "cell_type": "code",
   "execution_count": null,
   "metadata": {},
   "outputs": [],
   "source": [
    "def sampleH(W,c,u):\n",
    "    #        \n",
    "    p=sigmoid(c+np.matmul(W,u))\n",
    "    h=np.random.binomial(1,p)\n",
    "    return h.astype(np.bool)\n",
    "def sampleU(W,b,h):\n",
    "    p=sigmoid(b+np.matmul(W.T,h))\n",
    "    v=np.random.binomial(1,p)\n",
    "    return v.astype(np.bool)"
   ]
  },
  {
   "cell_type": "code",
   "execution_count": null,
   "metadata": {},
   "outputs": [],
   "source": [
    "def RBM(hlen,D,k=1,epochs=10,eta=0.01,data=None):\n",
    "    vlen=D.shape[1]\n",
    "    lost=[]\n",
    "    if data is None:\n",
    "        W=np.random.normal(0,1,(hlen,vlen))\n",
    "        b=np.random.normal(0,1,(vlen,1))\n",
    "        c=np.random.normal(0,1,(hlen,1))\n",
    "    else:\n",
    "        W,b,c=data\n",
    "    \n",
    "    for epoch in range(epochs):\n",
    "        loss=0\n",
    "        step=0\n",
    "        for v in D:\n",
    "            step+=1\n",
    "            u=v #u is actually v0\n",
    "            u=np.expand_dims(u,1)\n",
    "            for t in range(k):\n",
    "                h=sampleH(W,c,u)\n",
    "                u=sampleU(W,b,h)\n",
    "            \n",
    "            v=np.expand_dims(v,axis=1)\n",
    "            \n",
    "            W += eta*(np.matmul(sigmoid(np.matmul(W,v)+c),v.T)-np.matmul(sigmoid(np.matmul(W,u)+c),u.T))\n",
    "            b += eta*(v.astype(np.int8) -u.astype(np.int8))\n",
    "            c += eta*(sigmoid(np.matmul(W,v)+c)-sigmoid(np.matmul(W,u)+c))\n",
    "            loss+=np.linalg.norm(sigmoid(np.matmul(W,v)+c)-sigmoid(np.matmul(W,u)+c))\n",
    "        print 'epoch %d , loss %.4f'%(epoch,loss/len(D))\n",
    "        lost.append(loss/len(D))\n",
    "    return lost"
   ]
  },
  {
   "cell_type": "code",
   "execution_count": null,
   "metadata": {},
   "outputs": [],
   "source": [
    "lost=[RBM(100,training_data,k=i) for i in [3,5,7,9,11]]"
   ]
  },
  {
   "cell_type": "code",
   "execution_count": null,
   "metadata": {},
   "outputs": [],
   "source": [
    "save_data(lost,'lost.bin')"
   ]
  }
 ],
 "metadata": {
  "kernelspec": {
   "display_name": "Python 2",
   "language": "python",
   "name": "python2"
  },
  "language_info": {
   "codemirror_mode": {
    "name": "ipython",
    "version": 2
   },
   "file_extension": ".py",
   "mimetype": "text/x-python",
   "name": "python",
   "nbconvert_exporter": "python",
   "pygments_lexer": "ipython2",
   "version": "2.7.12"
  }
 },
 "nbformat": 4,
 "nbformat_minor": 2
}
