{
 "cells": [
  {
   "cell_type": "code",
   "execution_count": 1,
   "metadata": {},
   "outputs": [],
   "source": [
    "import numpy as np\n",
    "import matplotlib.pyplot as plt"
   ]
  },
  {
   "cell_type": "code",
   "execution_count": 31,
   "metadata": {},
   "outputs": [
    {
     "data": {
      "text/plain": [
       "<Figure size 432x288 with 0 Axes>"
      ]
     },
     "metadata": {},
     "output_type": "display_data"
    }
   ],
   "source": [
    "plt.figure()\n",
    "    \n",
    "def plot_learning_curve(epochs,title, X,sizes):\n",
    "    plt.title(title)\n",
    "    plt.xlabel(\"Epoch\")\n",
    "    plt.ylabel(\"BLEU\")\n",
    "    eps=epochs\n",
    "    epochs=range(epochs)\n",
    "    \n",
    "    colors=['r','b','k','g']\n",
    "    plt.grid()\n",
    "    j=0\n",
    "    plt.xticks(range(0,eps+5,5))\n",
    "    for i in X:\n",
    "        plt.plot(epochs,i, '.-',color=colors[j],\n",
    "             label=str(sizes[j]))\n",
    "        j+=1\n",
    "    plt.legend(loc=\"best\")\n",
    "    return plt\n",
    "\n",
    "\n"
   ]
  },
  {
   "cell_type": "code",
   "execution_count": 5,
   "metadata": {},
   "outputs": [
    {
     "data": {
      "text/plain": [
       "13"
      ]
     },
     "execution_count": 5,
     "metadata": {},
     "output_type": "execute_result"
    }
   ],
   "source": [
    "#dirr='./q7/nag/log/'\n",
    "#data_training=np.loadtxt(dirr+'training_status.txt')\n",
    "#data_validation=np.loadtxt(dirr+'val_status.txt',delimiter=',')\n",
    "m1=np.loadtxt('./model-ops/m-5/losses.txt',delimiter=',')\n",
    "m2=np.loadtxt('./model-ops/m-6/losses.txt',delimiter=',')\n",
    "#m3=np.loadtxt('./model-ops/m-2/losses_b250_attend.txt',delimiter=',')\n",
    "len(m2)"
   ]
  },
  {
   "cell_type": "code",
   "execution_count": 33,
   "metadata": {},
   "outputs": [],
   "source": [
    "m1=np.loadtxt('./blue-scores',delimiter=',')"
   ]
  },
  {
   "cell_type": "code",
   "execution_count": null,
   "metadata": {},
   "outputs": [],
   "source": []
  },
  {
   "cell_type": "code",
   "execution_count": 34,
   "metadata": {},
   "outputs": [],
   "source": [
    "#d1=m1[:13,0]\n",
    "#d2=m1[:13,1]\n",
    "#epochs=13\n",
    "#d3=m2[:13,0]\n",
    "#d4=m2[:13,1]\n",
    "epochs=len(m1)\n"
   ]
  },
  {
   "cell_type": "code",
   "execution_count": 35,
   "metadata": {
    "scrolled": false
   },
   "outputs": [
    {
     "data": {
      "image/png": "[encoded data removed]",
      "text/plain": [
       "<Figure size 432x288 with 1 Axes>"
      ]
     },
     "metadata": {},
     "output_type": "display_data"
    }
   ],
   "source": [
    "title = \"\"\n",
    "lab=['Heirarchical model BLEU scores']#,'Unidirectional Validation loss','bidirectional Training loss','bidirectional Validation loss']\n",
    "plot_learning_curve(epochs,title,[m1],lab)\n",
    "plt.savefig('./plots/'+'Qx.eps',format='eps')\n",
    "plt.show()\n"
   ]
  },
  {
   "cell_type": "code",
   "execution_count": 27,
   "metadata": {},
   "outputs": [
    {
     "data": {
      "text/plain": [
       "(20, 20)"
      ]
     },
     "execution_count": 27,
     "metadata": {},
     "output_type": "execute_result"
    }
   ],
   "source": [
    "len(data_training),len(data_validation)"
   ]
  },
  {
   "cell_type": "code",
   "execution_count": 6,
   "metadata": {},
   "outputs": [
    {
     "data": {
      "text/plain": [
       "[array([85.481888, 21.55047 , 15.453902, 12.118194, 10.198644,  9.038759,\n",
       "         8.11577 ,  7.24927 ,  6.635427,  6.115441,  5.678532,  5.251887,\n",
       "         4.898381,  4.577785,  4.349236]),\n",
       " array([26.982036, 17.771716, 13.16706 , 10.785302,  9.603645,  8.67824 ,\n",
       "         7.895425,  7.375759,  7.017969,  6.636637,  6.404886,  6.076753,\n",
       "         5.900967,  5.785327,  5.635188])]"
      ]
     },
     "execution_count": 6,
     "metadata": {},
     "output_type": "execute_result"
    }
   ],
   "source": [
    "[data_training,data_validation]"
   ]
  },
  {
   "cell_type": "code",
   "execution_count": null,
   "metadata": {},
   "outputs": [],
   "source": []
  }
 ],
 "metadata": {
  "kernelspec": {
   "display_name": "Python 2",
   "language": "python",
   "name": "python2"
  },
  "language_info": {
   "codemirror_mode": {
    "name": "ipython",
    "version": 2
   },
   "file_extension": ".py",
   "mimetype": "text/x-python",
   "name": "python",
   "nbconvert_exporter": "python",
   "pygments_lexer": "ipython2",
   "version": "2.7.12"
  }
 },
 "nbformat": 4,
 "nbformat_minor": 2
}
