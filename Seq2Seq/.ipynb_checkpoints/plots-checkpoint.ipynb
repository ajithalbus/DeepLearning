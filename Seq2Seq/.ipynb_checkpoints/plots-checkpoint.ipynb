{
 "cells": [
  {
   "cell_type": "code",
   "execution_count": 34,
   "metadata": {},
   "outputs": [],
   "source": [
    "import tensorflow as tf\n",
    "import pandas as pd\n",
    "import numpy as np\n",
    "import sys\n",
    "import sklearn as sk\n",
    "from sklearn import preprocessing as pre"
   ]
  },
  {
   "cell_type": "code",
   "execution_count": 91,
   "metadata": {},
   "outputs": [],
   "source": [
    "GO='<go>'\n",
    "STOP='<stop>'\n",
    "PAD='<pad>'\n",
    "BATCH=5"
   ]
  },
  {
   "cell_type": "code",
   "execution_count": 92,
   "metadata": {},
   "outputs": [],
   "source": [
    "def breaker(listofsentences,start=True):\n",
    "    '''returns a list of list of strings'''\n",
    "    if listofsentences==None:\n",
    "        return None\n",
    "    lst=[]\n",
    "    for i in listofsentences:\n",
    "        t=i.split()\n",
    "        if start:\n",
    "            t=[GO]+t+[PAD]\n",
    "        else:\n",
    "            t=[GO]+t+[STOP]\n",
    "        lst.append(t)\n",
    "    return lst"
   ]
  },
  {
   "cell_type": "code",
   "execution_count": 93,
   "metadata": {},
   "outputs": [],
   "source": [
    "def read(data='train'):\n",
    "    COMBINED='./WeatherGov/'+data+'/'+data+'.combined'\n",
    "    SUMMARY='./WeatherGov/'+data+'/summaries.txt'\n",
    "    op_sec=None\n",
    "    with open(COMBINED) as f:\n",
    "        content = f.readlines()\n",
    "    ip_sec = [x.strip() for x in content]\n",
    "    if data!='test':\n",
    "        with open(SUMMARY) as f:\n",
    "            content = f.readlines()\n",
    "        op_sec = [x.strip() for x in content]\n",
    "        \n",
    "    return breaker(ip_sec,True),breaker(op_sec,False)"
   ]
  },
  {
   "cell_type": "code",
   "execution_count": 94,
   "metadata": {},
   "outputs": [],
   "source": [
    "def listofwords(data):\n",
    "    '''takes a list of sentences nd returns vocab'''\n",
    "    a=[]\n",
    "    for i in data:\n",
    "        for j in i:\n",
    "            if j not in a:\n",
    "                a.append(j)\n",
    "    return a"
   ]
  },
  {
   "cell_type": "code",
   "execution_count": 95,
   "metadata": {},
   "outputs": [],
   "source": [
    "training_ip_sec,training_op_sec=read('train')\n",
    "valid_ip_sec,valid_op_sec=read('dev')\n",
    "test_ip_sec,_=read('test')"
   ]
  },
  {
   "cell_type": "code",
   "execution_count": 96,
   "metadata": {},
   "outputs": [],
   "source": [
    "ip_vocab=listofwords(training_ip_sec)\n",
    "op_vocab=listofwords(training_op_sec)"
   ]
  },
  {
   "cell_type": "code",
   "execution_count": 97,
   "metadata": {},
   "outputs": [],
   "source": [
    "ip_vocab_size,op_vocab_size=len(ip_vocab),len(op_vocab)"
   ]
  },
  {
   "cell_type": "code",
   "execution_count": 98,
   "metadata": {},
   "outputs": [],
   "source": [
    "training_ip_sec_len=[len(i) for i in training_ip_sec]\n",
    "training_op_sec_len=[len(i) for i in training_op_sec]\n",
    "valid_ip_sec_len=[len(i) for i in valid_ip_sec]\n",
    "valid_op_sec_len=[len(i) for i in valid_op_sec]\n",
    "test_ip_sec_len=[len(i) for i in test_ip_sec]"
   ]
  },
  {
   "cell_type": "code",
   "execution_count": 99,
   "metadata": {},
   "outputs": [],
   "source": [
    "pre_ip=pre.LabelEncoder()\n",
    "pre_ip.fit(ip_vocab)\n",
    "\n",
    "onehoter=np.identity(len(pre_ip.classes_))\n",
    "\n",
    "#word to int\n",
    "training_ip_sect=[pre_ip.transform(i) for i in training_ip_sec]\n",
    "valid_ip_sect=[pre_ip.transform(i) for i in valid_ip_sec]\n",
    "test_ip_sect=[pre_ip.transform(i) for i in test_ip_sec]\n",
    "\n",
    "#adding pads\n",
    "maxi=0\n",
    "for i in training_ip_sect:\n",
    "    maxi=max(maxi,len(i))\n",
    "training_ip_sect0=[np.pad(i,(0,maxi-len(i)),'constant',constant_values=pre_ip.transform([PAD])) for i in training_ip_sect]\n",
    "valid_ip_sect0=[np.pad(i,(0,maxi-len(i)),'constant',constant_values=pre_ip.transform([PAD])) for i in valid_ip_sect]\n",
    "test_ip_sect0=[np.pad(i,(0,maxi-len(i)),'constant',constant_values=pre_ip.transform([PAD])) for i in test_ip_sect]\n",
    "\n",
    "#making them onehot\n",
    "training_ip_sectt=[[onehoter[i] for i in j] for j in training_ip_sect0]\n",
    "valid_ip_sectt=[[onehoter[i] for i in j] for j in valid_ip_sect0]\n",
    "test_ip_sectt=[[onehoter[i] for i in j] for j in test_ip_sect0]\n",
    "\n",
    "\n",
    "#del training_ip_sec,valid_ip_sec,test_ip_sec\n",
    "#del training_ip_sect,valid_ip_sect,test_ip_sect\n",
    "#del training_ip_sect0,valid_ip_sect0,test_ip_sect0\n",
    "\n",
    "#OP sec\n",
    "pre_op=pre.LabelEncoder()\n",
    "pre_op.fit(op_vocab)\n",
    "\n",
    "onehoter2=np.identity(len(pre_op.classes_))\n",
    "\n",
    "#word to int\n",
    "training_op_sect=[pre_op.transform(i) for i in training_op_sec]\n",
    "valid_op_sect=[pre_op.transform(i) for i in valid_op_sec]\n",
    "\n",
    "#adding pad\n",
    "maxi=0\n",
    "for i in training_op_sect:\n",
    "    maxi=max(maxi,len(i))\n",
    "training_op_sect0=[np.pad(i,(0,maxi-len(i)),'constant',constant_values=pre_op.transform([STOP])) for i in training_op_sect]\n",
    "valid_op_sect0=[np.pad(i,(0,maxi-len(i)),'constant',constant_values=pre_op.transform([STOP])) for i in valid_op_sect]\n",
    "\n",
    "\n",
    "#int to onehot\n",
    "training_op_sectt=[[onehoter2[i] for i in j] for j in training_op_sect0]\n",
    "valid_op_sectt=[[onehoter2[i] for i in j] for j in valid_op_sect0]\n",
    "\n",
    "training_op_sectt_nopad=[[onehoter2[i] for i in j] for j in training_op_sect]\n",
    "valid_op_sectt_nopad=[[onehoter2[i] for i in j] for j in valid_op_sect]\n",
    "\n",
    "\n",
    "del training_op_sec,valid_op_sec\n",
    "del training_op_sect,valid_op_sect\n",
    "#del training_op_sect0,valid_op_sect0\n"
   ]
  },
  {
   "cell_type": "code",
   "execution_count": 100,
   "metadata": {},
   "outputs": [],
   "source": [
    "#using sect\n",
    "embedding_size=256\n",
    "lstm_units=512\n",
    "tf.reset_default_graph()"
   ]
  },
  {
   "cell_type": "code",
   "execution_count": 101,
   "metadata": {},
   "outputs": [],
   "source": [
    "source_seq = tf.placeholder(shape=(None, None), dtype=tf.int32)\n",
    "target_seq = tf.placeholder(shape=(None, None), dtype=tf.int32)\n",
    "source_seq_len = tf.placeholder(shape=(None,), dtype=tf.int32)\n",
    "target_seq_len = tf.placeholder(shape=(None,), dtype=tf.int32)"
   ]
  },
  {
   "cell_type": "code",
   "execution_count": null,
   "metadata": {},
   "outputs": [],
   "source": []
  },
  {
   "cell_type": "code",
   "execution_count": 102,
   "metadata": {},
   "outputs": [],
   "source": [
    "embedding_matrix_encode = tf.get_variable(\n",
    "    name=\"embedding_matrix_en\",\n",
    "    shape=[ip_vocab_size, embedding_size],\n",
    "    dtype=tf.float32)\n",
    "embedding_matrix_decode = tf.get_variable(\n",
    "    name=\"embedding_matrix_de\",\n",
    "    shape=[op_vocab_size, embedding_size],\n",
    "    dtype=tf.float32)\n",
    "source_seq_embedded = tf.nn.embedding_lookup(embedding_matrix_encode, source_seq) \n",
    "decoder_input_embedded = tf.nn.embedding_lookup(embedding_matrix_decode, target_seq) "
   ]
  },
  {
   "cell_type": "code",
   "execution_count": 103,
   "metadata": {},
   "outputs": [],
   "source": [
    "_, encoder_state = tf.nn.dynamic_rnn(\n",
    "    tf.contrib.rnn.LSTMCell(lstm_units),\n",
    "    source_seq_embedded,\n",
    "    sequence_length=source_seq_len,\n",
    "    dtype=tf.float32)\n"
   ]
  },
  {
   "cell_type": "code",
   "execution_count": 104,
   "metadata": {},
   "outputs": [],
   "source": [
    "output_layer = tf.layers.Dense(op_vocab_size)\n",
    "\n",
    "decoder_cell=tf.contrib.rnn.LSTMCell(lstm_units)\n",
    "helper = tf.contrib.seq2seq.TrainingHelper(decoder_input_embedded,target_seq_len)\n",
    "decoder = tf.contrib.seq2seq.BasicDecoder(decoder_cell, helper, encoder_state,output_layer=output_layer)#,output_layer=projection_layer)\n",
    "outputs, state, seq_len = tf.contrib.seq2seq.dynamic_decode(decoder)\n",
    "logits = outputs.rnn_output\n"
   ]
  },
  {
   "cell_type": "code",
   "execution_count": 143,
   "metadata": {},
   "outputs": [],
   "source": [
    "helper2 = tf.contrib.seq2seq.GreedyEmbeddingHelper(embedding_matrix_decode,tf.fill([BATCH],\n",
    "                                                    np.int32(pre_op.transform([GO])[0])),\n",
    "                                                   np.int32(pre_op.transform([STOP])[0]))\n",
    "\n",
    "decoder2 = tf.contrib.seq2seq.BasicDecoder(decoder_cell, helper2, encoder_state,output_layer=output_layer)#,output_layer=projection_layer)\n",
    "outputs, state, seq_len = tf.contrib.seq2seq.dynamic_decode(decoder2,maximum_iterations=50)\n",
    "\n",
    "#outputs, _,_ = tf.contrib.seq2seq.dynamic_decode(decoder2, maximum_iterations=50)\n",
    "translations = outputs.rnn_output"
   ]
  },
  {
   "cell_type": "code",
   "execution_count": 144,
   "metadata": {},
   "outputs": [],
   "source": [
    "cross_entropy=tf.nn.sparse_softmax_cross_entropy_with_logits(labels=target_seq,logits=logits)\n",
    "loss=tf.reduce_mean(cross_entropy)\n",
    "train = tf.train.AdamOptimizer(0.1).minimize(loss)\n"
   ]
  },
  {
   "cell_type": "code",
   "execution_count": 145,
   "metadata": {},
   "outputs": [
    {
     "data": {
      "text/plain": [
       "<tf.Tensor 'SparseSoftmaxCrossEntropyWithLogits_2/Reshape_2:0' shape=(?, ?) dtype=float32>"
      ]
     },
     "execution_count": 145,
     "metadata": {},
     "output_type": "execute_result"
    }
   ],
   "source": [
    "cross_entropy"
   ]
  },
  {
   "cell_type": "code",
   "execution_count": 146,
   "metadata": {},
   "outputs": [],
   "source": [
    "maxtlen=max(training_op_sec_len)\n",
    "maxvlen=max(valid_op_sec_len)\n",
    "t_newlen=[maxtlen for i in range(len(training_op_sec_len))]\n",
    "v_newlen=[maxtlen for i in range(len(valid_op_sec_len))]"
   ]
  },
  {
   "cell_type": "code",
   "execution_count": 147,
   "metadata": {},
   "outputs": [],
   "source": [
    "sess=tf.InteractiveSession()\n",
    "tf.global_variables_initializer().run()"
   ]
  },
  {
   "cell_type": "code",
   "execution_count": 148,
   "metadata": {},
   "outputs": [
    {
     "name": "stdout",
     "output_type": "stream",
     "text": [
      "5.916236\n",
      "7.2255883\n",
      "3.1317313\n",
      "31.12394\n",
      "33.287605\n",
      "24.658918\n",
      "20.760393\n",
      "9.178655\n",
      "3.906865\n",
      "4.625674\n",
      "5.261119\n",
      "5.7023063\n",
      "5.707062\n",
      "5.387462\n",
      "5.1730523\n",
      "4.751917\n",
      "4.2931523\n",
      "3.6699746\n",
      "3.0686328\n",
      "2.5707107\n",
      "2.1863782\n",
      "1.6501089\n"
     ]
    },
    {
     "ename": "KeyboardInterrupt",
     "evalue": "",
     "output_type": "error",
     "traceback": [
      "\u001b[0;31m---------------------------------------------------------------------------\u001b[0m",
      "\u001b[0;31mKeyboardInterrupt\u001b[0m                         Traceback (most recent call last)",
      "\u001b[0;32m<ipython-input-148-7d4f34604302>\u001b[0m in \u001b[0;36m<module>\u001b[0;34m()\u001b[0m\n\u001b[1;32m      7\u001b[0m                                                 \u001b[0mtarget_seq\u001b[0m\u001b[0;34m:\u001b[0m\u001b[0mtraining_op_sect0\u001b[0m\u001b[0;34m[\u001b[0m\u001b[0mstart\u001b[0m\u001b[0;34m:\u001b[0m\u001b[0mstop\u001b[0m\u001b[0;34m]\u001b[0m\u001b[0;34m,\u001b[0m\u001b[0;34m\u001b[0m\u001b[0m\n\u001b[1;32m      8\u001b[0m                                               \u001b[0msource_seq_len\u001b[0m\u001b[0;34m:\u001b[0m\u001b[0mtraining_ip_sec_len\u001b[0m\u001b[0;34m[\u001b[0m\u001b[0mstart\u001b[0m\u001b[0;34m:\u001b[0m\u001b[0mstop\u001b[0m\u001b[0;34m]\u001b[0m\u001b[0;34m,\u001b[0m\u001b[0;34m\u001b[0m\u001b[0m\n\u001b[0;32m----> 9\u001b[0;31m                                                 \u001b[0mtarget_seq_len\u001b[0m\u001b[0;34m:\u001b[0m\u001b[0mv_newlen\u001b[0m\u001b[0;34m[\u001b[0m\u001b[0mstart\u001b[0m\u001b[0;34m:\u001b[0m\u001b[0mstop\u001b[0m\u001b[0;34m]\u001b[0m\u001b[0;34m,\u001b[0m\u001b[0;34m\u001b[0m\u001b[0m\n\u001b[0m\u001b[1;32m     10\u001b[0m                                                 })\n\u001b[1;32m     11\u001b[0m         \u001b[0;32mprint\u001b[0m \u001b[0mlost\u001b[0m\u001b[0;34m\u001b[0m\u001b[0m\n",
      "\u001b[0;32m/usr/local/lib/python2.7/dist-packages/tensorflow/python/client/session.pyc\u001b[0m in \u001b[0;36mrun\u001b[0;34m(self, fetches, feed_dict, options, run_metadata)\u001b[0m\n\u001b[1;32m    903\u001b[0m     \u001b[0;32mtry\u001b[0m\u001b[0;34m:\u001b[0m\u001b[0;34m\u001b[0m\u001b[0m\n\u001b[1;32m    904\u001b[0m       result = self._run(None, fetches, feed_dict, options_ptr,\n\u001b[0;32m--> 905\u001b[0;31m                          run_metadata_ptr)\n\u001b[0m\u001b[1;32m    906\u001b[0m       \u001b[0;32mif\u001b[0m \u001b[0mrun_metadata\u001b[0m\u001b[0;34m:\u001b[0m\u001b[0;34m\u001b[0m\u001b[0m\n\u001b[1;32m    907\u001b[0m         \u001b[0mproto_data\u001b[0m \u001b[0;34m=\u001b[0m \u001b[0mtf_session\u001b[0m\u001b[0;34m.\u001b[0m\u001b[0mTF_GetBuffer\u001b[0m\u001b[0;34m(\u001b[0m\u001b[0mrun_metadata_ptr\u001b[0m\u001b[0;34m)\u001b[0m\u001b[0;34m\u001b[0m\u001b[0m\n",
      "\u001b[0;32m/usr/local/lib/python2.7/dist-packages/tensorflow/python/client/session.pyc\u001b[0m in \u001b[0;36m_run\u001b[0;34m(self, handle, fetches, feed_dict, options, run_metadata)\u001b[0m\n\u001b[1;32m   1135\u001b[0m     \u001b[0;32mif\u001b[0m \u001b[0mfinal_fetches\u001b[0m \u001b[0;32mor\u001b[0m \u001b[0mfinal_targets\u001b[0m \u001b[0;32mor\u001b[0m \u001b[0;34m(\u001b[0m\u001b[0mhandle\u001b[0m \u001b[0;32mand\u001b[0m \u001b[0mfeed_dict_tensor\u001b[0m\u001b[0;34m)\u001b[0m\u001b[0;34m:\u001b[0m\u001b[0;34m\u001b[0m\u001b[0m\n\u001b[1;32m   1136\u001b[0m       results = self._do_run(handle, final_targets, final_fetches,\n\u001b[0;32m-> 1137\u001b[0;31m                              feed_dict_tensor, options, run_metadata)\n\u001b[0m\u001b[1;32m   1138\u001b[0m     \u001b[0;32melse\u001b[0m\u001b[0;34m:\u001b[0m\u001b[0;34m\u001b[0m\u001b[0m\n\u001b[1;32m   1139\u001b[0m       \u001b[0mresults\u001b[0m \u001b[0;34m=\u001b[0m \u001b[0;34m[\u001b[0m\u001b[0;34m]\u001b[0m\u001b[0;34m\u001b[0m\u001b[0m\n",
      "\u001b[0;32m/usr/local/lib/python2.7/dist-packages/tensorflow/python/client/session.pyc\u001b[0m in \u001b[0;36m_do_run\u001b[0;34m(self, handle, target_list, fetch_list, feed_dict, options, run_metadata)\u001b[0m\n\u001b[1;32m   1353\u001b[0m     \u001b[0;32mif\u001b[0m \u001b[0mhandle\u001b[0m \u001b[0;32mis\u001b[0m \u001b[0mNone\u001b[0m\u001b[0;34m:\u001b[0m\u001b[0;34m\u001b[0m\u001b[0m\n\u001b[1;32m   1354\u001b[0m       return self._do_call(_run_fn, self._session, feeds, fetches, targets,\n\u001b[0;32m-> 1355\u001b[0;31m                            options, run_metadata)\n\u001b[0m\u001b[1;32m   1356\u001b[0m     \u001b[0;32melse\u001b[0m\u001b[0;34m:\u001b[0m\u001b[0;34m\u001b[0m\u001b[0m\n\u001b[1;32m   1357\u001b[0m       \u001b[0;32mreturn\u001b[0m \u001b[0mself\u001b[0m\u001b[0;34m.\u001b[0m\u001b[0m_do_call\u001b[0m\u001b[0;34m(\u001b[0m\u001b[0m_prun_fn\u001b[0m\u001b[0;34m,\u001b[0m \u001b[0mself\u001b[0m\u001b[0;34m.\u001b[0m\u001b[0m_session\u001b[0m\u001b[0;34m,\u001b[0m \u001b[0mhandle\u001b[0m\u001b[0;34m,\u001b[0m \u001b[0mfeeds\u001b[0m\u001b[0;34m,\u001b[0m \u001b[0mfetches\u001b[0m\u001b[0;34m)\u001b[0m\u001b[0;34m\u001b[0m\u001b[0m\n",
      "\u001b[0;32m/usr/local/lib/python2.7/dist-packages/tensorflow/python/client/session.pyc\u001b[0m in \u001b[0;36m_do_call\u001b[0;34m(self, fn, *args)\u001b[0m\n\u001b[1;32m   1359\u001b[0m   \u001b[0;32mdef\u001b[0m \u001b[0m_do_call\u001b[0m\u001b[0;34m(\u001b[0m\u001b[0mself\u001b[0m\u001b[0;34m,\u001b[0m \u001b[0mfn\u001b[0m\u001b[0;34m,\u001b[0m \u001b[0;34m*\u001b[0m\u001b[0margs\u001b[0m\u001b[0;34m)\u001b[0m\u001b[0;34m:\u001b[0m\u001b[0;34m\u001b[0m\u001b[0m\n\u001b[1;32m   1360\u001b[0m     \u001b[0;32mtry\u001b[0m\u001b[0;34m:\u001b[0m\u001b[0;34m\u001b[0m\u001b[0m\n\u001b[0;32m-> 1361\u001b[0;31m       \u001b[0;32mreturn\u001b[0m \u001b[0mfn\u001b[0m\u001b[0;34m(\u001b[0m\u001b[0;34m*\u001b[0m\u001b[0margs\u001b[0m\u001b[0;34m)\u001b[0m\u001b[0;34m\u001b[0m\u001b[0m\n\u001b[0m\u001b[1;32m   1362\u001b[0m     \u001b[0;32mexcept\u001b[0m \u001b[0merrors\u001b[0m\u001b[0;34m.\u001b[0m\u001b[0mOpError\u001b[0m \u001b[0;32mas\u001b[0m \u001b[0me\u001b[0m\u001b[0;34m:\u001b[0m\u001b[0;34m\u001b[0m\u001b[0m\n\u001b[1;32m   1363\u001b[0m       \u001b[0mmessage\u001b[0m \u001b[0;34m=\u001b[0m \u001b[0mcompat\u001b[0m\u001b[0;34m.\u001b[0m\u001b[0mas_text\u001b[0m\u001b[0;34m(\u001b[0m\u001b[0me\u001b[0m\u001b[0;34m.\u001b[0m\u001b[0mmessage\u001b[0m\u001b[0;34m)\u001b[0m\u001b[0;34m\u001b[0m\u001b[0m\n",
      "\u001b[0;32m/usr/local/lib/python2.7/dist-packages/tensorflow/python/client/session.pyc\u001b[0m in \u001b[0;36m_run_fn\u001b[0;34m(session, feed_dict, fetch_list, target_list, options, run_metadata)\u001b[0m\n\u001b[1;32m   1338\u001b[0m         \u001b[0;32melse\u001b[0m\u001b[0;34m:\u001b[0m\u001b[0;34m\u001b[0m\u001b[0m\n\u001b[1;32m   1339\u001b[0m           return tf_session.TF_Run(session, options, feed_dict, fetch_list,\n\u001b[0;32m-> 1340\u001b[0;31m                                    target_list, status, run_metadata)\n\u001b[0m\u001b[1;32m   1341\u001b[0m \u001b[0;34m\u001b[0m\u001b[0m\n\u001b[1;32m   1342\u001b[0m     \u001b[0;32mdef\u001b[0m \u001b[0m_prun_fn\u001b[0m\u001b[0;34m(\u001b[0m\u001b[0msession\u001b[0m\u001b[0;34m,\u001b[0m \u001b[0mhandle\u001b[0m\u001b[0;34m,\u001b[0m \u001b[0mfeed_dict\u001b[0m\u001b[0;34m,\u001b[0m \u001b[0mfetch_list\u001b[0m\u001b[0;34m)\u001b[0m\u001b[0;34m:\u001b[0m\u001b[0;34m\u001b[0m\u001b[0m\n",
      "\u001b[0;31mKeyboardInterrupt\u001b[0m: "
     ]
    }
   ],
   "source": [
    "for j in range(1):\n",
    "    for i in range(len(training_ip_sectt)/BATCH):\n",
    "        start=0*BATCH\n",
    "        stop=(1)*BATCH\n",
    "\n",
    "        _,lost=sess.run([train,loss],feed_dict={source_seq:training_ip_sect0[start:stop],\n",
    "                                                target_seq:training_op_sect0[start:stop],\n",
    "                                              source_seq_len:training_ip_sec_len[start:stop],\n",
    "                                                target_seq_len:v_newlen[start:stop],\n",
    "                                                })\n",
    "        print lost\n",
    "        #print 'Epoch :%d step:%d training loss:%f validation loss:%f'%(j,i,lost)\n",
    "            "
   ]
  },
  {
   "cell_type": "code",
   "execution_count": 151,
   "metadata": {},
   "outputs": [],
   "source": [
    "x=sess.run(translations,feed_dict={source_seq:training_ip_sect0[:BATCH],\n",
    "                                                source_seq_len:training_ip_sec_len[:BATCH],\n",
    "                                                })"
   ]
  },
  {
   "cell_type": "code",
   "execution_count": 157,
   "metadata": {},
   "outputs": [
    {
     "data": {
      "text/plain": [
       "array([ -7.6407943 ,  21.44109   , -17.272236  ,  -5.1536355 ,\n",
       "        -8.964071  , -19.813366  , -19.482985  , -15.01316   ,\n",
       "        -8.860966  , -13.166062  ,  -9.488982  ,  -7.45147   ,\n",
       "       -16.223173  , -10.022994  ,  -7.699382  , -15.093208  ,\n",
       "        -8.323972  , -10.042555  , -11.051315  ,  -5.7501297 ,\n",
       "        -6.191658  ,  -7.5433474 , -19.121328  , -13.284205  ,\n",
       "        -8.415861  , -18.297918  , -11.76773   ,  -9.163438  ,\n",
       "       -11.085957  , -16.55347   , -14.113889  , -12.028027  ,\n",
       "        -7.4912553 , -19.933823  ,  -6.35895   , -10.3911495 ,\n",
       "       -16.802214  , -17.687527  , -19.672762  ,  -7.4476337 ,\n",
       "       -14.711037  , -18.84771   ,  -8.848768  , -12.258333  ,\n",
       "       -10.097645  ,  -4.2652755 ,  -9.726394  , -11.177543  ,\n",
       "       -18.083504  , -16.28271   ,  -8.896441  , -18.75751   ,\n",
       "        -7.603278  , -20.727816  , -15.544474  , -19.21834   ,\n",
       "        -8.916165  , -16.790628  , -19.551304  , -19.265862  ,\n",
       "       -17.071262  , -16.99262   , -17.57174   , -19.926666  ,\n",
       "       -11.599742  ,  -6.3215923 ,  -9.828347  , -19.258982  ,\n",
       "       -10.358599  ,   9.900545  , -10.854645  , -16.428915  ,\n",
       "       -13.72162   , -11.176105  , -20.538404  , -15.062019  ,\n",
       "       -20.444666  , -21.297924  , -20.230164  , -11.274926  ,\n",
       "       -20.981949  , -12.844131  , -16.034836  , -18.531315  ,\n",
       "       -19.117573  ,  -8.589569  , -20.065685  , -10.186394  ,\n",
       "        -8.233633  , -22.209957  ,  -8.874131  , -20.476362  ,\n",
       "       -15.241484  ,  -4.1709056 ,  -8.745031  ,  -7.303442  ,\n",
       "       -12.130149  , -15.392932  , -11.474924  ,  -6.092555  ,\n",
       "        -9.425378  , -19.39707   , -13.234689  , -20.225626  ,\n",
       "        -5.575555  ,  -8.030225  , -10.279822  , -17.684908  ,\n",
       "        -7.887     , -10.804701  , -20.448519  , -11.413873  ,\n",
       "       -11.077554  ,  -7.1043863 ,  -9.842137  , -17.89303   ,\n",
       "       -10.193341  , -16.542862  , -21.239796  , -17.454151  ,\n",
       "       -14.7956505 ,   7.2472243 ,  -6.2577095 , -14.633507  ,\n",
       "       -19.732538  ,  10.748781  , -15.840011  ,  -7.8767843 ,\n",
       "        -8.1793    ,   0.99173856,  35.193306  ,  -9.322598  ,\n",
       "       -20.59438   , -13.5462885 , -19.145582  ,  -6.6624827 ,\n",
       "        -9.169434  ,   7.2208157 ,  -8.917172  , -20.315195  ,\n",
       "       -22.365913  ,  -6.363261  , -13.749244  , -12.729188  ,\n",
       "       -11.836987  ,  -9.354114  , -10.389752  , -19.080769  ,\n",
       "        -6.691951  , -13.109899  ,  -8.340728  , -16.788454  ,\n",
       "       -10.387652  ,  -8.495996  , -13.523657  , -14.989712  ,\n",
       "       -21.90133   , -18.584787  ,  -6.675269  , -11.668421  ,\n",
       "       -18.911676  , -16.48107   ,  -6.2521176 , -10.804832  ,\n",
       "        -9.414558  , -18.792387  ,  -7.4114184 , -12.682456  ,\n",
       "        -7.7697988 ,  -9.949499  , -10.804292  ,  15.910817  ,\n",
       "       -18.76222   ,  -6.3825746 , -20.335424  , -10.816333  ,\n",
       "       -19.361387  ,  -4.7250996 ,  -6.5514383 , -16.796686  ,\n",
       "        -6.10648   , -10.75344   ,  -9.692215  ,  -9.083098  ,\n",
       "       -17.321856  ,  -8.161423  ,  -8.310653  , -18.23864   ,\n",
       "       -15.104635  , -19.911982  , -14.381392  ,  -6.256277  ,\n",
       "        -8.137468  , -17.803797  ,  -8.685187  , -12.220655  ,\n",
       "       -19.87526   , -15.045919  ,  -8.6277075 , -12.59172   ,\n",
       "        -4.279496  , -11.069794  , -16.756844  , -18.919765  ,\n",
       "        52.850864  ,  42.909824  ,  30.375483  ,  -7.3953376 ,\n",
       "       -10.393788  , -20.42677   , -27.003994  , -18.978065  ,\n",
       "       -10.300079  ,  41.52864   , -17.786242  ,  12.027371  ,\n",
       "       -20.992254  , -15.892776  ,  -7.5169477 , -19.3532    ,\n",
       "        -7.539421  ,  -9.9467535 ,  -8.36002   , -18.26881   ,\n",
       "        14.007133  ,  -8.963212  ,  -9.832884  , -20.557491  ,\n",
       "       -14.383479  ,  -9.0218315 ,  -5.574122  ,  30.95952   ,\n",
       "        -8.345896  , -19.12617   , -17.625858  ,  -4.971529  ,\n",
       "       -19.357271  , -16.397964  ,  -6.8385715 ,   7.9313717 ,\n",
       "         6.451578  , -17.956486  ,  -9.611564  , -13.859346  ,\n",
       "       -19.063442  , -10.532788  , -21.282059  , -17.802898  ,\n",
       "       -16.088255  , -11.351896  , -17.50977   ,  -7.4737496 ,\n",
       "         0.6431415 ,  -7.1609287 ,  -7.155027  ,  -6.451854  ,\n",
       "        -7.196088  , -18.173258  ,  -9.153925  , -19.805435  ,\n",
       "        17.423548  ,  -9.236754  , -28.218855  ,  -9.633633  ,\n",
       "        -7.173294  ,  -3.9726675 ,  20.72318   , -10.142982  ,\n",
       "        11.20626   ,  -7.595642  , -21.694387  , -13.125231  ,\n",
       "       -18.669638  ,  20.099718  ,  -9.11639   ,  -5.3083525 ,\n",
       "       -16.731543  ,  -9.384062  ,  32.745174  ,  -7.781524  ,\n",
       "        -8.526854  , -10.897714  , -20.471592  , -16.825045  ,\n",
       "       -11.339151  ,  -9.678248  ,  -6.8459826 ,  -9.695533  ,\n",
       "        -8.604658  , -16.512579  ,  -5.000824  ,  -9.167653  ,\n",
       "       -14.192386  , -15.408902  , -20.664228  , -14.35282   ,\n",
       "       -20.476068  , -18.153133  , -20.695848  , -10.646587  ,\n",
       "       -19.45851   , -17.54614   , -18.703896  , -16.273361  ,\n",
       "        -6.732545  , -19.866785  , -14.073896  , -20.210094  ,\n",
       "        -8.458912  ,  17.058058  ,  -9.094767  , -11.67857   ,\n",
       "       -10.619851  , -16.660336  , -10.32078   , -18.306738  ,\n",
       "        -7.57628   , -11.570624  ,  -8.714056  ,  -8.916128  ,\n",
       "        -8.449295  ,  28.303007  , -16.135687  , -15.244292  ,\n",
       "       -20.057804  ,  -7.2997613 ,  -9.59138   , -17.1626    ,\n",
       "        -8.225141  , -19.46521   ,  17.275846  ,  -9.411915  ,\n",
       "        -8.118458  , -10.606886  , -18.898855  ,  -8.381301  ,\n",
       "       -19.5382    , -15.6194935 ,   3.2422135 , -14.114357  ,\n",
       "        -9.070395  , -10.150064  ,  -8.170641  ,  22.638681  ,\n",
       "       -20.796883  , -10.892047  ,  -7.057834  ,  -9.988434  ,\n",
       "        -8.332762  , -15.78137   , -17.72422   ,  -8.351434  ,\n",
       "        -9.521081  , -11.321571  , -12.213689  , -17.705189  ,\n",
       "       -10.039005  ,   7.625639  , -14.223105  , -12.566773  ,\n",
       "        -7.929689  , -17.262877  ,  11.317246  ,  19.850409  ,\n",
       "        -9.105735  , -18.364786  , -11.041471  , -16.618095  ,\n",
       "        30.2959    , -16.52947   ,  -8.081985  , -18.384922  ,\n",
       "       -11.4775505 ,  -7.5599194 , -20.513046  , -18.19607   ,\n",
       "       -11.37815   , -14.213628  ,  -7.9348593 , -14.077053  ,\n",
       "        -8.453805  , -18.529875  , -20.387041  ,  -8.457731  ,\n",
       "        -7.715312  , -11.747296  ,  28.002628  ,  -7.415788  ,\n",
       "       -19.582706  ,  14.065275  , -11.885821  ], dtype=float32)"
      ]
     },
     "execution_count": 157,
     "metadata": {},
     "output_type": "execute_result"
    }
   ],
   "source": [
    "x[0,0]"
   ]
  },
  {
   "cell_type": "code",
   "execution_count": 149,
   "metadata": {},
   "outputs": [],
   "source": [
    "x,y=sess.run([target_seq,logits],feed_dict={source_seq:training_ip_sect0[start:stop],\n",
    "                                                target_seq:training_op_sect0[start:stop],\n",
    "                                              source_seq_len:training_ip_sec_len[start:stop],\n",
    "                                                target_seq_len:v_newlen[start:stop],\n",
    "                                                })"
   ]
  },
  {
   "cell_type": "code",
   "execution_count": 150,
   "metadata": {},
   "outputs": [
    {
     "data": {
      "text/plain": [
       "(array([204, 224, 368,   1, 389, 252, 309, 330, 137,  27, 240, 386, 268,\n",
       "        171, 260, 199, 329,  27, 205, 205, 205, 205, 205, 205, 205, 205,\n",
       "        205, 205, 205, 205, 205, 205, 205, 205, 205, 205, 205, 205, 205,\n",
       "        205, 205, 205, 205, 205, 205, 205, 205, 205, 205, 205, 205, 205,\n",
       "        205, 205, 205, 205, 205, 205, 205, 205, 205, 205, 205, 205, 205,\n",
       "        205, 205, 205, 205, 205, 205, 205, 205, 205, 205, 205, 205, 205,\n",
       "        205, 205, 205, 205, 205, 205, 205, 205, 205, 205, 205, 205],\n",
       "       dtype=int32),\n",
       " array([204, 224, 368,   1, 231, 231, 309, 386, 386, 386, 386, 386, 268,\n",
       "        171, 260, 199,  27,  27, 205, 205, 205, 205, 205, 205, 205, 205,\n",
       "        205, 205, 205, 205, 205, 205, 205, 205, 205, 205, 205, 205, 205,\n",
       "        205, 205, 205, 205, 205, 205, 205, 205, 205, 205, 205, 205, 205,\n",
       "        205, 205, 205, 205, 205, 205, 205, 205, 205, 205, 205, 205, 205,\n",
       "        205, 205, 205, 205, 205, 205, 205, 205, 205, 205, 205, 205, 205,\n",
       "        205, 205, 205, 205, 205, 205, 205, 205, 205, 205, 205, 205]))"
      ]
     },
     "execution_count": 150,
     "metadata": {},
     "output_type": "execute_result"
    }
   ],
   "source": [
    "x[0],np.argmax(y[0],axis=1)"
   ]
  },
  {
   "cell_type": "code",
   "execution_count": null,
   "metadata": {},
   "outputs": [],
   "source": []
  }
 ],
 "metadata": {
  "kernelspec": {
   "display_name": "Python 2",
   "language": "python",
   "name": "python2"
  },
  "language_info": {
   "codemirror_mode": {
    "name": "ipython",
    "version": 2
   },
   "file_extension": ".py",
   "mimetype": "text/x-python",
   "name": "python",
   "nbconvert_exporter": "python",
   "pygments_lexer": "ipython2",
   "version": "2.7.12"
  }
 },
 "nbformat": 4,
 "nbformat_minor": 2
}
